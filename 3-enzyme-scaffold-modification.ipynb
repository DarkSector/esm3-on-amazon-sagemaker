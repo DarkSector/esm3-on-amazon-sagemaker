{
 "cells": [
  {
   "cell_type": "markdown",
   "id": "ec6f0e6c-e514-496c-ba0c-0e5f7184ad9e",
   "metadata": {
    "id": "GZeZDsBYTe6z"
   },
   "source": [
    "# Enzyme Engineering with ESM3 using Amazon SageMaker Realtime inference endpoints\n",
    "\n",
    "The demo will showcase ESM3's ability to modify enzyme sequences and structures.\n",
    "\n",
    "Rather than generating new sequences from scratch, it can be much more interesting to modify an existing protein sequence. You might do this to potentially increase the binding to a ligand, for example. Or to design a new protein that incorporates a known active site.\n",
    "\n",
    "![Protein Modification](images/part_seq-seq.png)"
   ]
  },
  {
   "cell_type": "markdown",
   "id": "147044cf",
   "metadata": {},
   "source": [
    "## 1. Setup"
   ]
  },
  {
   "cell_type": "markdown",
   "id": "a82fa5d4-fe25-4288-8b62-35243d5a4794",
   "metadata": {},
   "source": [
    "Note: you'll need to run the first notebook `1-deploy-esm3-inference-endpoint.ipynb` before running this one to get the `ENDPOINT_NAME` used below. Optionally if you deploy the model via the SageMaker console you can find the endpoint in the inference section of the console."
   ]
  },
  {
   "cell_type": "code",
   "execution_count": null,
   "id": "e6f35c7e",
   "metadata": {},
   "outputs": [],
   "source": [
    "ENDPOINT_NAME = \"\"\n",
    "MODEL_NAME = \"esm3-sm-open-v1\""
   ]
  },
  {
   "cell_type": "code",
   "execution_count": null,
   "id": "100abaa5",
   "metadata": {},
   "outputs": [],
   "source": [
    "from esm.sdk.api import ESMProtein, GenerationConfig\n",
    "from esm.sdk.sagemaker import ESM3SageMakerClient\n",
    "from src.esmhelpers import format_seq\n",
    "\n",
    "model = ESM3SageMakerClient(endpoint_name=ENDPOINT_NAME, model=MODEL_NAME)"
   ]
  },
  {
   "cell_type": "markdown",
   "id": "8bf50659",
   "metadata": {},
   "source": [
    "---\n",
    "## 2. Download enzyme structure\n",
    "\n",
    "Ornithine transcarbamylase (OTC) deficiency is a rare genetic disorder that affects the liver's ability to process ammonia, a waste product produced during the breakdown of proteins. It is the most common urea cycle disorder. Treatment involves a low-protein diet, ammonia-lowering medications, and sometimes liver transplantation for severe cases. Early diagnosis and management are crucial to prevent brain damage and other complications.\n",
    "\n",
    "One treatment approach for certain genetic diseases like OTCD is enzyme replacement therapy, where patients receive an intravenous infusion of the missing or deficient enzyme on a regular basis. This can be effective, but expensive. Instead, scientists have proposed using modified versions of these enzymes that require lower or less-frequent dosing. \n",
    "\n",
    "Let's see how ESM3 can improve protein engineering projects like this. First, we download the OTC reference structure from PDB and visualize the active sites necessary for its function."
   ]
  },
  {
   "cell_type": "code",
   "execution_count": null,
   "id": "eb5bab72",
   "metadata": {},
   "outputs": [],
   "source": [
    "from esm.utils.structure.protein_chain import ProteinChain\n",
    "import py3Dmol\n",
    "\n",
    "pdb_id = \"1OTH\"\n",
    "chain_id = \"A\"\n",
    "\n",
    "# Download the mmCIF file for 1PKN from PDB\n",
    "otc_reference_chain = ProteinChain.from_rcsb(pdb_id, chain_id)\n",
    "otc_reference_chain.residue_index = (\n",
    "    otc_reference_chain.residue_index - otc_reference_chain.residue_index[0] + 1\n",
    ")\n",
    "otc_reference_protein = ESMProtein.from_protein_chain(otc_reference_chain)\n",
    "\n",
    "# Display the sequence\n",
    "print(format_seq(otc_reference_chain.sequence))\n",
    "\n",
    "active_site_residues = [\n",
    "    56,\n",
    "    57,\n",
    "    58,\n",
    "    59,\n",
    "    60,\n",
    "    61,\n",
    "    108,\n",
    "    130,\n",
    "    135,\n",
    "    138,\n",
    "    165,\n",
    "    166,\n",
    "    167,\n",
    "    230,\n",
    "    231,\n",
    "    234,\n",
    "    235,\n",
    "    270,\n",
    "    271,\n",
    "    272,\n",
    "    297,\n",
    "]\n",
    "\n",
    "# Display the structure\n",
    "view = py3Dmol.view(width=800, height=600)\n",
    "view.addModel(otc_reference_chain.infer_oxygen().to_pdb_string(), \"pdb\")\n",
    "view.setStyle({\"cartoon\": {\"color\": \"#007FAA\"}})\n",
    "view.addStyle({\"resi\": active_site_residues}, {\"cartoon\": {\"color\": \"#eb982c\"}})\n",
    "\n",
    "view.zoomTo()\n",
    "view.show()"
   ]
  },
  {
   "cell_type": "markdown",
   "id": "6ec7050a",
   "metadata": {},
   "source": [
    "---\n",
    "## 3. Prepare masked prompt"
   ]
  },
  {
   "cell_type": "markdown",
   "id": "1fcb964b",
   "metadata": {},
   "source": [
    "Next, we encode the reference sequence and structure into tokens. This will make it easier to select specific portions of the protein for redesign, especially for the structure."
   ]
  },
  {
   "cell_type": "code",
   "execution_count": null,
   "id": "caef3ba8",
   "metadata": {},
   "outputs": [],
   "source": [
    "otc_reference_tokens = model.encode(otc_reference_protein)\n",
    "print(f\"Encoded sequence:\\n{otc_reference_tokens.sequence}\")\n",
    "print(f\"Encoded structure:\\n{otc_reference_tokens.structure}\")"
   ]
  },
  {
   "cell_type": "markdown",
   "id": "aaade3fc",
   "metadata": {},
   "source": [
    "Next, we create a prompt that masks all of the protein except for the binding pocket highlighted above. First, we can construct a sequence prompt of all masks and then fill in the active site residues."
   ]
  },
  {
   "cell_type": "code",
   "execution_count": null,
   "id": "c9e79e61",
   "metadata": {},
   "outputs": [],
   "source": [
    "import torch\n",
    "from esm.utils.constants import esm3 as esm3_constants\n",
    "\n",
    "prompt_token_length = len(otc_reference_tokens.sequence)\n",
    "print(f\"Sequence token count: {prompt_token_length}\")\n",
    "masked_sequence_tokens = torch.full(\n",
    "    [prompt_token_length], esm3_constants.SEQUENCE_MASK_TOKEN\n",
    ")\n",
    "masked_sequence_tokens[0] = esm3_constants.SEQUENCE_BOS_TOKEN\n",
    "masked_sequence_tokens[-1] = esm3_constants.SEQUENCE_EOS_TOKEN\n",
    "\n",
    "for idx in active_site_residues:\n",
    "    masked_sequence_tokens[idx - 1] = otc_reference_tokens.sequence[idx - 1]\n",
    "\n",
    "masked_sequence_token_count = (\n",
    "    (masked_sequence_tokens == esm3_constants.SEQUENCE_MASK_TOKEN).sum().item()\n",
    ")\n",
    "\n",
    "print(f\"Masked sequence token count: {masked_sequence_token_count}\")"
   ]
  },
  {
   "cell_type": "markdown",
   "id": "1bf11347",
   "metadata": {},
   "source": [
    "Next, we do something similar for the structure. Rather than dealing with 3D coordinates, we instead work with the encoded structure tokens. We construct an empty structure track like |<bos> <mask> ... <mask> <eos>|... and then fill in structure tokens for the active site.\n"
   ]
  },
  {
   "cell_type": "code",
   "execution_count": null,
   "id": "63a5a030",
   "metadata": {},
   "outputs": [],
   "source": [
    "import torch\n",
    "\n",
    "masked_structure_tokens = torch.full(\n",
    "    [prompt_token_length], esm3_constants.STRUCTURE_MASK_TOKEN\n",
    ")\n",
    "\n",
    "masked_structure_tokens[0] = esm3_constants.STRUCTURE_BOS_TOKEN\n",
    "masked_structure_tokens[-1] = esm3_constants.STRUCTURE_EOS_TOKEN\n",
    "\n",
    "otc_reference_tokens = model.encode(otc_reference_protein)\n",
    "for idx in active_site_residues:\n",
    "    masked_structure_tokens[idx - 1] = otc_reference_tokens.structure[idx - 1]\n",
    "\n",
    "masked_structure_token_count = (\n",
    "    (masked_structure_tokens == esm3_constants.STRUCTURE_MASK_TOKEN).sum().item()\n",
    ")\n",
    "\n",
    "print(f\"Masked structure token count: {masked_structure_token_count}\")\n",
    "\n",
    "assert masked_sequence_token_count == masked_structure_token_count\n",
    "masked_token_count = masked_sequence_token_count"
   ]
  },
  {
   "cell_type": "code",
   "execution_count": null,
   "id": "0a073861",
   "metadata": {},
   "outputs": [],
   "source": [
    "from esm.sdk.api import ESMProteinTensor\n",
    "\n",
    "encoded_prompt = ESMProteinTensor(\n",
    "    sequence=masked_sequence_tokens, \n",
    "    structure=masked_structure_tokens\n",
    ")"
   ]
  },
  {
   "cell_type": "code",
   "execution_count": null,
   "id": "02f0a717",
   "metadata": {},
   "outputs": [],
   "source": [
    "print(\"Reference sequence:\")\n",
    "print(\n",
    "    format_seq(\n",
    "        otc_reference_chain.sequence, width=prompt_token_length + 1, line_numbers=False\n",
    "    )\n",
    ")\n",
    "print(\"Masked sequence:\")\n",
    "print(\n",
    "    format_seq(\n",
    "        model.decode(encoded_prompt).sequence,\n",
    "        width=prompt_token_length + 1,\n",
    "        line_numbers=False,\n",
    "    )\n",
    ")\n",
    "print(\"Masked structure:\")\n",
    "print(\n",
    "    format_seq(\n",
    "        \"\".join([\"✔\" if st < 4096 else \"_\" for st in encoded_prompt.structure][1:-1]),\n",
    "        width=prompt_token_length + 1,\n",
    "        line_numbers=False,\n",
    "    )\n",
    ")"
   ]
  },
  {
   "cell_type": "markdown",
   "id": "fdfb9516",
   "metadata": {},
   "source": [
    "---\n",
    "## 4. Generate structure"
   ]
  },
  {
   "cell_type": "code",
   "execution_count": null,
   "id": "7d3e418b",
   "metadata": {},
   "outputs": [],
   "source": [
    "structure_generation_config = GenerationConfig(\n",
    "    track=\"structure\", num_steps=masked_token_count // 8, temperature=1.0\n",
    ")\n",
    "\n",
    "generated_protein_1 = model.generate(encoded_prompt, structure_generation_config)\n",
    "\n",
    "decoded_protein_chain = model.decode(generated_protein_1).to_protein_chain()\n",
    "\n",
    "view = py3Dmol.view(width=600, height=400)\n",
    "view.addModel(decoded_protein_chain.infer_oxygen().to_pdb_string(), \"pdb\")\n",
    "view.setStyle({\"cartoon\": {\"color\": \"#007FAA\"}})\n",
    "view.addStyle({\"resi\": active_site_residues}, {\"cartoon\": {\"color\": \"#eb982c\"}})\n",
    "view.zoomTo()\n",
    "view.show()"
   ]
  },
  {
   "cell_type": "markdown",
   "id": "ab5cf6e5",
   "metadata": {},
   "source": [
    "Verfiy that:\n",
    "  1. The new structure has a very similar active site as the reference\n",
    "  2. The new struture has a very DISSIMLAR backbone structure"
   ]
  },
  {
   "cell_type": "code",
   "execution_count": null,
   "id": "384481d9",
   "metadata": {},
   "outputs": [],
   "source": [
    "constrained_site_rmsd = otc_reference_chain[active_site_residues].rmsd(\n",
    "    decoded_protein_chain[active_site_residues]\n",
    ")\n",
    "backbone_rmsd = otc_reference_chain.rmsd(decoded_protein_chain)\n",
    "\n",
    "c_pass = \"✅\" if constrained_site_rmsd < 1.5 else \"❌\"\n",
    "b_pass = \"✅\" if backbone_rmsd > 1.5 else \"❌\"\n",
    "\n",
    "print(f\"Constrained site RMSD: {constrained_site_rmsd:.2f} Ang {c_pass}\")\n",
    "print(f\"Backbone RMSD: {backbone_rmsd:.2f} Ang {b_pass}\")"
   ]
  },
  {
   "cell_type": "markdown",
   "id": "595372f1",
   "metadata": {},
   "source": [
    "---\n",
    "## 5. Generate sequence\n",
    "\n",
    "Next, we use the generated structure as conditioning to generate a new sequence"
   ]
  },
  {
   "cell_type": "code",
   "execution_count": null,
   "id": "b648d8c9",
   "metadata": {},
   "outputs": [],
   "source": [
    "sequence_generation_config = GenerationConfig(\n",
    "    track=\"sequence\",\n",
    "    num_steps=masked_token_count // 4,\n",
    "    temperature=1.0,\n",
    ")\n",
    "generated_protein_2 = model.generate(generated_protein_1, sequence_generation_config)\n",
    "\n",
    "print(\"Reference sequence:\")\n",
    "print(\n",
    "    format_seq(\n",
    "        otc_reference_chain.sequence, width=prompt_token_length + 1, line_numbers=False\n",
    "    )\n",
    ")\n",
    "print(\"Masked sequence:\")\n",
    "print(\n",
    "    format_seq(\n",
    "        model.decode(encoded_prompt).sequence,\n",
    "        width=prompt_token_length + 1,\n",
    "        line_numbers=False,\n",
    "    )\n",
    ")\n",
    "print(\"Generated sequence:\")\n",
    "print(\n",
    "    format_seq(\n",
    "        model.decode(generated_protein_2).sequence, width=prompt_token_length + 1, line_numbers=False\n",
    "    )\n",
    ")"
   ]
  },
  {
   "cell_type": "markdown",
   "id": "1c4dd846",
   "metadata": {},
   "source": [
    "Finally, refold the generated sequence without any other conditioning."
   ]
  },
  {
   "cell_type": "code",
   "execution_count": null,
   "id": "c8e2958a",
   "metadata": {},
   "outputs": [],
   "source": [
    "prompt = ESMProteinTensor(sequence=generated_protein_2.sequence, structure=None)\n",
    "\n",
    "structure_generation_config = GenerationConfig(\n",
    "    track=\"structure\", num_steps=masked_token_count // 8, temperature=0.0\n",
    ")\n",
    "\n",
    "generated_protein_3 = model.generate(prompt, structure_generation_config)\n",
    "final_protein = model.decode(generated_protein_3)\n",
    "print(format_seq(final_protein.sequence))"
   ]
  },
  {
   "cell_type": "markdown",
   "id": "f0e74d33",
   "metadata": {},
   "source": [
    "---\n",
    "## 6. Validation"
   ]
  },
  {
   "cell_type": "markdown",
   "id": "c3224c60",
   "metadata": {},
   "source": [
    "Compare the generated sequence to the reference."
   ]
  },
  {
   "cell_type": "code",
   "execution_count": null,
   "id": "fd5163c7",
   "metadata": {},
   "outputs": [],
   "source": [
    "import biotite.sequence as seq\n",
    "import biotite.sequence.align as align\n",
    "import biotite.sequence.graphics as graphics\n",
    "import matplotlib.pyplot as pl\n",
    "\n",
    "\n",
    "seq1 = seq.ProteinSequence(otc_reference_protein.sequence)\n",
    "seq2 = seq.ProteinSequence(final_protein.sequence)\n",
    "\n",
    "alignments = align.align_optimal(\n",
    "    seq1,\n",
    "    seq2,\n",
    "    align.SubstitutionMatrix.std_protein_matrix(),\n",
    "    gap_penalty=(-10, -1),\n",
    ")\n",
    "\n",
    "alignment = alignments[0]\n",
    "\n",
    "identity = align.get_sequence_identity(alignment)\n",
    "print(f\"Sequence identity: {100*identity:.2f}%\")\n",
    "\n",
    "print(\"\\nSequence alignment:\")\n",
    "fig = pl.figure(figsize=(8.0, 4.0))\n",
    "ax = fig.add_subplot(111)\n",
    "graphics.plot_alignment_similarity_based(\n",
    "    ax, alignment, symbols_per_line=45, spacing=2,\n",
    "    show_numbers=True,\n",
    ")\n",
    "fig.tight_layout()\n",
    "pl.show()"
   ]
  },
  {
   "cell_type": "markdown",
   "id": "3b6d4e07",
   "metadata": {},
   "source": [
    "Compare the generated structure to the reference."
   ]
  },
  {
   "cell_type": "code",
   "execution_count": null,
   "id": "c805619a",
   "metadata": {},
   "outputs": [],
   "source": [
    "generated_chain = final_protein.to_protein_chain()\n",
    "generated_chain = generated_chain.align(otc_reference_chain)\n",
    "\n",
    "constrained_site_rmsd = otc_reference_chain[active_site_residues].rmsd(\n",
    "    generated_chain[active_site_residues]\n",
    ")\n",
    "backbone_rmsd = otc_reference_chain.rmsd(generated_chain)\n",
    "\n",
    "c_pass = \"✅\" if constrained_site_rmsd < 1.5 else \"❌\"\n",
    "b_pass = \"🤷‍♂️\"\n",
    "\n",
    "print(f\"Constrained site RMSD: {constrained_site_rmsd:.2f} Ang {c_pass}\")\n",
    "print(f\"Backbone RMSD: {backbone_rmsd:.2f} Ang {b_pass}\")\n"
   ]
  },
  {
   "cell_type": "code",
   "execution_count": null,
   "id": "c244824d",
   "metadata": {},
   "outputs": [],
   "source": [
    "view = py3Dmol.view(width=600, height=600)\n",
    "view.addModel(otc_reference_chain.infer_oxygen().to_pdb_string(), \"pdb\")\n",
    "view.addModel(generated_chain.infer_oxygen().to_pdb_string(), \"pdb\")\n",
    "view.setStyle({\"model\":0},{\"cartoon\": {\"color\": \"#007FAA\"}})\n",
    "view.setStyle({\"model\":1},{\"cartoon\": {\"color\": \"lightgreen\"}})\n",
    "view.addStyle({\"resi\": active_site_residues}, {\"cartoon\": {\"color\": \"#eb982c\"}})\n",
    "view.zoomTo()\n",
    "view.show()"
   ]
  },
  {
   "cell_type": "markdown",
   "id": "f8c2cda2",
   "metadata": {},
   "source": [
    "We have successfully generated a new protein with a similar active site as the referemce but different backbone structure and sequence. Repeating this process many times will give us a good library of candidates for lab testing."
   ]
  },
  {
   "cell_type": "markdown",
   "id": "859c1316-c3cb-4d72-b227-64798906f2df",
   "metadata": {},
   "source": [
    "## Congratulations\n",
    "\n",
    "You've gone through all the example notebooks. Please feel free to experiment further or go to the next notebook where you can learn how to delete the inference endpoints."
   ]
  }
 ],
 "metadata": {
  "kernelspec": {
   "display_name": "Python 3 (ipykernel)",
   "language": "python",
   "name": "python3"
  },
  "language_info": {
   "codemirror_mode": {
    "name": "ipython",
    "version": 3
   },
   "file_extension": ".py",
   "mimetype": "text/x-python",
   "name": "python",
   "nbconvert_exporter": "python",
   "pygments_lexer": "ipython3",
   "version": "3.10.14"
  }
 },
 "nbformat": 4,
 "nbformat_minor": 5
}
