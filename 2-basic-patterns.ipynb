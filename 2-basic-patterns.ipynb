{
 "cells": [
  {
   "cell_type": "markdown",
   "id": "ec6f0e6c-e514-496c-ba0c-0e5f7184ad9e",
   "metadata": {
    "id": "GZeZDsBYTe6z"
   },
   "source": [
    "# ESM3 on SageMaker JumpStart\n",
    "\n",
    "The demo will showcase ESM3's ability to perform several protein design tasks.\n",
    "\n",
    "![1](images/all.png)"
   ]
  },
  {
   "cell_type": "markdown",
   "id": "147044cf",
   "metadata": {},
   "source": [
    "## 1. Setup"
   ]
  },
  {
   "cell_type": "code",
   "execution_count": null,
   "id": "575ffc50-d62d-402e-b910-b3905e798c4a",
   "metadata": {
    "tags": []
   },
   "outputs": [],
   "source": [
    "from IPython.display import clear_output\n",
    "\n",
    "%pip install -U -r requirements.txt\n",
    "%pip install -U esm --no-deps\n",
    "\n",
    "clear_output()"
   ]
  },
  {
   "cell_type": "code",
   "execution_count": null,
   "id": "0e1ff740",
   "metadata": {},
   "outputs": [],
   "source": [
    "ENDPOINT_NAME = \"<PASTE YOUR ENDPOINT NAME HERE>\"\n",
    "MODEL_NAME = \"<PASTE YOUR MODEL NAME HERE>\""
   ]
  },
  {
   "cell_type": "code",
   "execution_count": null,
   "id": "3fc6f04b",
   "metadata": {},
   "outputs": [],
   "source": [
    "from esm.sdk.api import ESMProtein, GenerationConfig\n",
    "from esm.sdk.sagemaker import ESM3SageMakerClient\n",
    "from src.esmhelpers import format_seq, quick_pdb_plot, quick_aligment_plot\n",
    "\n",
    "model = ESM3SageMakerClient(endpoint_name=ENDPOINT_NAME, model=MODEL_NAME)"
   ]
  },
  {
   "cell_type": "markdown",
   "id": "ab1db171-8f75-41c9-b59c-beb9ae6733b1",
   "metadata": {},
   "source": [
    "---\n",
    "## 2. Sequence + Structure Generation\n",
    "\n",
    "![Sequence and Structure Generation](images/seq_str_out.png)"
   ]
  },
  {
   "cell_type": "markdown",
   "id": "c4f2f3d2",
   "metadata": {},
   "source": [
    "ESM3 is a generative model, so the most basic task it can accomplish is to create the sequence and structure of a new protein. All ESM3 inference requests must include sequence information, so in this case we will pass a string of \"_\" symbols. This is the \"mask\" token that indicates where we want ESM3 to fill in the blanks.\n",
    "\n",
    "We start by generating a new protein sequence."
   ]
  },
  {
   "cell_type": "code",
   "execution_count": null,
   "id": "3e39093e",
   "metadata": {},
   "outputs": [],
   "source": [
    "%%time\n",
    "\n",
    "n_masked = 64\n",
    "\n",
    "masked_sequence = \"_\" * n_masked\n",
    "\n",
    "prompt = ESMProtein(sequence=masked_sequence)\n",
    "sequence_generation_config = GenerationConfig(\n",
    "    track=\"sequence\", # We want ESM3 to generate tokens for the sequence track\n",
    "    num_steps=prompt.sequence.count(\"_\") // 4, # We'll use num(mask tokens) // 4 steps to decode the sequence\n",
    "    temperature=0.7, # We'll use a temperature of 0.7 to increase the randomness of the decoding process\n",
    ")\n",
    "\n",
    "# Call the ESM3 inference endpoint\n",
    "generated_protein = model.generate(\n",
    "    prompt,\n",
    "    sequence_generation_config,\n",
    ")\n",
    "\n",
    "# View the generated sequence\n",
    "print(f\"Sequence length: {len(generated_protein.sequence)}\")\n",
    "print(format_seq(generated_protein.sequence))\n"
   ]
  },
  {
   "cell_type": "markdown",
   "id": "2bca5a11",
   "metadata": {},
   "source": [
    "Next, we predict the structure of the generated sequence and display the results."
   ]
  },
  {
   "cell_type": "code",
   "execution_count": null,
   "id": "d0873929",
   "metadata": {},
   "outputs": [],
   "source": [
    "%%time\n",
    "\n",
    "import py3Dmol\n",
    "\n",
    "prompt = generated_protein\n",
    "\n",
    "structure_generation_config = GenerationConfig(\n",
    "    track=\"structure\", # We want ESM3 to generate tokens for the structure track\n",
    "    num_steps=len(generated_protein.sequence) // 8,\n",
    "    temperature=0.0, \n",
    ")\n",
    "\n",
    "generated_protein = model.generate(\n",
    "    prompt,\n",
    "    structure_generation_config,\n",
    ")\n",
    "print(f\"Structure coordinates dimensions: {tuple(generated_protein.coordinates.shape)}\")\n",
    "\n",
    "quick_pdb_plot(generated_protein.to_protein_chain().infer_oxygen().to_pdb_string(), color=\"spectrum\")\n"
   ]
  },
  {
   "cell_type": "markdown",
   "id": "b0b3fbc3",
   "metadata": {},
   "source": [
    "Let's repeat the sequence + structure generation a few more times. In this case we'll generate all of the tokens in a single step. This makes the inference much faster, but will reduced accuracy."
   ]
  },
  {
   "cell_type": "code",
   "execution_count": null,
   "id": "a7702a29",
   "metadata": {},
   "outputs": [],
   "source": [
    "# Generate sequence\n",
    "for i in range(3):\n",
    "    print(f\"Iteration {i+1}\")\n",
    "    sequence_prompt = ESMProtein(sequence=\"_\" * n_masked)\n",
    "    sequence_generation_config = GenerationConfig(\n",
    "        track=\"sequence\",\n",
    "        num_steps=1,\n",
    "        temperature=0.7,\n",
    "    )\n",
    "    generated_protein = model.generate(\n",
    "        sequence_prompt,\n",
    "        sequence_generation_config,\n",
    "    )\n",
    "    print(format_seq(generated_protein.sequence))\n",
    "\n",
    "    # Generate structure\n",
    "    structure_prompt = generated_protein\n",
    "    structure_generation_config = GenerationConfig(\n",
    "        track=\"structure\",\n",
    "        num_steps=1,\n",
    "        temperature=0.0,\n",
    "    )\n",
    "\n",
    "    generated_protein = model.generate(\n",
    "        generated_protein,\n",
    "        structure_generation_config,\n",
    "    )\n",
    "\n",
    "    quick_pdb_plot(\n",
    "        generated_protein.to_protein_chain().infer_oxygen().to_pdb_string(),\n",
    "        width=400,\n",
    "        height=300,\n",
    "        color=\"spectrum\",\n",
    "    )"
   ]
  },
  {
   "cell_type": "markdown",
   "id": "9a2891a9",
   "metadata": {},
   "source": [
    "---\n",
    "## 3. Sequence to Function Prediction\n",
    "\n",
    "![Sequence In - Function Out](images/seq-func.png)\n",
    "\n",
    "Another common task is function prediction. Given an unknown amino acid sequence, can we predict the function of its domains? Let's try an example.\n",
    "\n",
    "For this example, we'll look at pyruvate kinase (PDB ID: [1PKN](https://www.rcsb.org/structure/1PKN)), a key enzyme involved in the breakdown of sugar into energy. It is composed of two different domains, or functional units, the “Barrel Domain” (colored in green below) and the “C-Terminal Domain” (colored in orange)."
   ]
  },
  {
   "cell_type": "code",
   "execution_count": null,
   "id": "483516da",
   "metadata": {},
   "outputs": [],
   "source": [
    "from esm.utils.structure.protein_chain import ProteinChain\n",
    "import py3Dmol\n",
    "\n",
    "pdb_id = \"1PKN\"\n",
    "chain_id = \"A\"\n",
    "\n",
    "# Download the mmCIF file for 1PKN from PDB\n",
    "pyruvate_kinase_chain = ProteinChain.from_rcsb(pdb_id, chain_id)\n",
    "\n",
    "# Display the sequence\n",
    "print(format_seq(pyruvate_kinase_chain.sequence))\n",
    "\n",
    "# Display the structure\n",
    "view = py3Dmol.view(width=400, height=300)\n",
    "view.addModel(pyruvate_kinase_chain.to_pdb_string(), \"pdb\")\n",
    "view.setStyle({\"cartoon\": {\"color\": \"lightgrey\"}})\n",
    "view.addStyle({\"resi\": list(range(40, 373))}, {\"cartoon\": {\"color\": \"#38EF7D\"}})\n",
    "view.addStyle({\"resi\": list(range(408, 526))}, {\"cartoon\": {\"color\": \"#FF9900\"}})\n",
    "view.rotate(150, \"x\")\n",
    "view.rotate(45, \"y\")\n",
    "view.rotate(45, \"z\")\n",
    "view.zoomTo()\n",
    "view.show()"
   ]
  },
  {
   "cell_type": "markdown",
   "id": "22f66f7d",
   "metadata": {},
   "source": [
    "Let's submit the pyruvate kinase sequence to ESM3 and request functional annotations by setting the `track` parameter to `function'."
   ]
  },
  {
   "cell_type": "code",
   "execution_count": null,
   "id": "a2a96bf8",
   "metadata": {},
   "outputs": [],
   "source": [
    "prompt = ESMProtein.from_protein_chain(pyruvate_kinase_chain)\n",
    "\n",
    "function_prediction_config = GenerationConfig(\n",
    "    track=\"function\",\n",
    "    num_steps=len(prompt.sequence)\n",
    "    // 8,\n",
    ")\n",
    "\n",
    "generated_protein = model.generate(\n",
    "    prompt,\n",
    "    function_prediction_config,\n",
    ")\n",
    "\n",
    "for annotation in generated_protein.function_annotations:\n",
    "    print(annotation.to_tuple())"
   ]
  },
  {
   "cell_type": "code",
   "execution_count": null,
   "id": "fc8fa87f",
   "metadata": {},
   "outputs": [],
   "source": [
    "from src.esmhelpers import parse_annotations_by_label, format_annotations\n",
    "\n",
    "parsed_annotations = parse_annotations_by_label(generated_protein.function_annotations)\n",
    "\n",
    "print(\n",
    "    \" \".ljust(25),\n",
    "    format_seq(\n",
    "        generated_protein.sequence,\n",
    "        width=len(generated_protein.sequence) + 1,\n",
    "        line_numbers=False,\n",
    "    ),\n",
    ")\n",
    "\n",
    "for label, flags in format_annotations(\n",
    "    parsed_annotations,\n",
    "    len(generated_protein.sequence),\n",
    "    [\n",
    "        \"Pyruvate kinase (IPR001697)\",\n",
    "        \"barrel\",\n",
    "        \"Pyruvate kinase, C-terminal (IPR015795)\",\n",
    "        \"Pyruvate kinase, active site (IPR018209)\",\n",
    "        \"acetyltransferase\",\n",
    "    ],\n",
    ").items():\n",
    "    print(\n",
    "        label[:24].ljust(25),\n",
    "        format_seq(\n",
    "            flags,\n",
    "            width=len(generated_protein.sequence) + 1,\n",
    "            line_numbers=False,\n",
    "        ),\n",
    "    )"
   ]
  },
  {
   "cell_type": "markdown",
   "id": "b6e2ac49",
   "metadata": {},
   "source": [
    "ESM3 was able to correctly identify the barrel and C-terminal domains, as well as some additional sequence annotations."
   ]
  },
  {
   "cell_type": "markdown",
   "id": "d1902bdf",
   "metadata": {},
   "source": [
    "---\n",
    "## 4. Sequence to Structure Prediction\n",
    "\n",
    "![Sequence In - Structure Out](images/seq-str.png)\n",
    "\n"
   ]
  },
  {
   "cell_type": "markdown",
   "id": "53224f0f",
   "metadata": {},
   "source": [
    "Another common task for bioFMs is to translate between sequence and struture (protein folding). Let's try to predict the structure of human beta 3 alchohol dehydrogenase, the enzyme responsible for breaking down alcohol in the liver."
   ]
  },
  {
   "cell_type": "code",
   "execution_count": null,
   "id": "953431a5",
   "metadata": {},
   "outputs": [],
   "source": [
    "from esm.utils.structure.protein_chain import ProteinChain\n",
    "import py3Dmol\n",
    "\n",
    "pdb_id = \"1HTB\"\n",
    "chain_id = \"A\"\n",
    "\n",
    "# Download the mmCIF file for 1JB0 from PDB\n",
    "adh_ref_chain = ProteinChain.from_rcsb(pdb_id, chain_id)\n",
    "\n",
    "# Display the sequence\n",
    "print(format_seq(adh_ref_chain.sequence))\n",
    "\n",
    "# Display the structure\n",
    "quick_pdb_plot(adh_ref_chain.to_pdb_string(), color=\"#007FAA\", width=400, height=300)"
   ]
  },
  {
   "cell_type": "markdown",
   "id": "b0183412",
   "metadata": {},
   "source": [
    "Now we use ESM3 to predict the structure, conditioned on the sequence"
   ]
  },
  {
   "cell_type": "code",
   "execution_count": null,
   "id": "4de7b9fc",
   "metadata": {},
   "outputs": [],
   "source": [
    "prompt = ESMProtein.from_protein_chain(adh_ref_chain)\n",
    "\n",
    "structure_generation_config = GenerationConfig(\n",
    "    track=\"structure\",\n",
    "    num_steps=len(prompt.sequence) // 8,\n",
    "    temperature=0.0,  # Lower temperature means more deterministic predictions.\n",
    ")\n",
    "\n",
    "generated_protein = model.generate(\n",
    "    prompt,\n",
    "    structure_generation_config,\n",
    ")\n",
    "\n",
    "generated_chain = generated_protein.to_protein_chain()\n",
    "generated_chain = generated_chain.align(adh_ref_chain)\n",
    "\n",
    "quick_pdb_plot(\n",
    "    generated_protein.to_pdb_string(), color=\"#00f174\", width=400, height=300\n",
    ")"
   ]
  },
  {
   "cell_type": "markdown",
   "id": "82ce5143",
   "metadata": {},
   "source": [
    "Finally we align the generated and reference structures and view the results."
   ]
  },
  {
   "cell_type": "code",
   "execution_count": null,
   "id": "00b6db39",
   "metadata": {},
   "outputs": [],
   "source": [
    "# Calculate the cRMSD\n",
    "crmsd = generated_chain.rmsd(adh_ref_chain)\n",
    "print(\n",
    "    \"cRMSD of the motif in the generated structure vs the original structure: \", crmsd\n",
    ")\n",
    "\n",
    "view = py3Dmol.view(width=800, height=600)\n",
    "view.addModel(adh_ref_chain.to_pdb_string(), \"pdb\")\n",
    "view.addModel(generated_chain.to_pdb_string(), \"pdb\")\n",
    "view.setStyle({\"model\": 0}, {\"cartoon\": {\"color\": \"#007FAA\"}})\n",
    "view.setStyle({\"model\": 1}, {\"cartoon\": {\"color\": \"#00f174\"}})\n",
    "view.zoomTo()\n",
    "view.show()"
   ]
  },
  {
   "cell_type": "markdown",
   "id": "8f5e9108",
   "metadata": {},
   "source": [
    "The structure prediction is quite good, with a cRMSD of less than 1. The reference structure was generated using X-ray diffraction at a resolution of 2.4 angstroms, so this prediction matches the experimental accuracy."
   ]
  },
  {
   "cell_type": "markdown",
   "id": "952007c7",
   "metadata": {},
   "source": [
    "---\n",
    "## 5. Structure to Sequence Prediction\n",
    "\n",
    "We can also translate the other direction, from structure to sequence.\n",
    "\n",
    "![Structure In - Sequence Out](images/str-seq.png)"
   ]
  },
  {
   "cell_type": "code",
   "execution_count": null,
   "id": "33e50f5b",
   "metadata": {},
   "outputs": [],
   "source": [
    "masked_sequence = \"_\" * len(adh_ref_chain.sequence)\n",
    "\n",
    "prompt = ESMProtein(\n",
    "    sequence=masked_sequence,\n",
    "    coordinates=generated_protein.coordinates,\n",
    ")\n",
    "sequence_generation_config = GenerationConfig(\n",
    "    track=\"sequence\",\n",
    "    num_steps=prompt.sequence.count(\"_\") // 4,\n",
    "    temperature=0.0,\n",
    ")\n",
    "generated_protein = model.generate(\n",
    "    prompt,\n",
    "    sequence_generation_config,\n",
    ")\n",
    "print(format_seq(generated_protein.sequence))"
   ]
  },
  {
   "cell_type": "code",
   "execution_count": null,
   "id": "202656e1",
   "metadata": {},
   "outputs": [],
   "source": [
    "quick_aligment_plot(adh_ref_chain.sequence, generated_protein.sequence)"
   ]
  },
  {
   "cell_type": "markdown",
   "id": "4e8269b7",
   "metadata": {},
   "source": [
    "Given only the predicted 3D structure of ADH, ESM3 was able to recover more than 85% of the actual sequence."
   ]
  },
  {
   "cell_type": "code",
   "execution_count": null,
   "id": "c8e2958a",
   "metadata": {},
   "outputs": [],
   "source": []
  }
 ],
 "metadata": {
  "kernelspec": {
   "display_name": ".venv",
   "language": "python",
   "name": "python3"
  },
  "language_info": {
   "codemirror_mode": {
    "name": "ipython",
    "version": 3
   },
   "file_extension": ".py",
   "mimetype": "text/x-python",
   "name": "python",
   "nbconvert_exporter": "python",
   "pygments_lexer": "ipython3",
   "version": "3.11.9"
  }
 },
 "nbformat": 4,
 "nbformat_minor": 5
}
