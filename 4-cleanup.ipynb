{
 "cells": [
  {
   "cell_type": "markdown",
   "id": "6c11a19d-1445-495c-a21c-5af9d220664e",
   "metadata": {},
   "source": [
    "# Clean up"
   ]
  },
  {
   "cell_type": "markdown",
   "id": "69cc0126-3f7a-4da5-80a3-4d9e73eee39c",
   "metadata": {},
   "source": [
    "This notebook will create an instance of the predictor and delete the endpoint. Alternatively you can delete the endpoint directly through the SageMaker Console "
   ]
  },
  {
   "cell_type": "markdown",
   "id": "fb0392bc-264e-4a47-80d0-9830d6ef6093",
   "metadata": {},
   "source": [
    "## 1. Delete endpoint"
   ]
  },
  {
   "cell_type": "code",
   "execution_count": 3,
   "id": "498b4143-624c-4207-b462-6eebdb4905ec",
   "metadata": {},
   "outputs": [],
   "source": [
    "ENDPOINT_NAME = \"\""
   ]
  },
  {
   "cell_type": "code",
   "execution_count": 4,
   "id": "f033d199-9712-496f-8236-e9b5c83c1b8b",
   "metadata": {},
   "outputs": [],
   "source": [
    "from sagemaker.predictor import Predictor\n",
    "from sagemaker import Session\n",
    "\n",
    "session = Session()\n",
    "\n",
    "predictor = Predictor(ENDPOINT_NAME, sagemaker_session=session)"
   ]
  },
  {
   "cell_type": "code",
   "execution_count": 5,
   "id": "159c7ff9-76a7-49b3-bbc4-0a3289225984",
   "metadata": {},
   "outputs": [],
   "source": [
    "predictor.delete_endpoint()"
   ]
  },
  {
   "cell_type": "markdown",
   "id": "f72ff07c-abf1-4482-b0a0-30d68daf6d50",
   "metadata": {},
   "source": [
    "## 2. Unsubscribe to the listing (Optional)"
   ]
  },
  {
   "cell_type": "markdown",
   "id": "34bcac8a-0304-44c6-ab1d-111fb034ccc6",
   "metadata": {},
   "source": [
    "If you would like to unsubscribe to the model package, follow these steps. Before you cancel the subscription, ensure that you do not have any [deployable model](https://console.aws.amazon.com/sagemaker/home#/models) created from the model package or using the algorithm. Note - You can find this information by looking at the container name associated with the model. \n",
    "\n",
    "**Steps to unsubscribe to product from AWS Marketplace**:\n",
    "1. Navigate to __Machine Learning__ tab on [__Your Software subscriptions page__](https://aws.amazon.com/marketplace/ai/library?productType=ml&ref_=mlmp_gitdemo_indust)\n",
    "2. Locate the listing that you want to cancel the subscription for, and then choose __Cancel Subscription__  to cancel the subscription.\n",
    "\n"
   ]
  }
 ],
 "metadata": {
  "kernelspec": {
   "display_name": "Python 3 (ipykernel)",
   "language": "python",
   "name": "python3"
  },
  "language_info": {
   "codemirror_mode": {
    "name": "ipython",
    "version": 3
   },
   "file_extension": ".py",
   "mimetype": "text/x-python",
   "name": "python",
   "nbconvert_exporter": "python",
   "pygments_lexer": "ipython3",
   "version": "3.10.14"
  }
 },
 "nbformat": 4,
 "nbformat_minor": 5
}
