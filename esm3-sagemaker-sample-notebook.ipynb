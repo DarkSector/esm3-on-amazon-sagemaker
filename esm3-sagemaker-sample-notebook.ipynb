{
 "cells": [
  {
   "cell_type": "markdown",
   "metadata": {},
   "source": [
    "# Deploy ESM3-open Model Package from AWS Marketplace \n",
    "\n",
    "\n",
    "--------------------\n",
    "\n",
    "## <font color='orange'>Important:</font>\n",
    "\n",
    "Please visit model detail page in <a href=\"https://aws.amazon.com/marketplace/pp/prodview-xbvra5ylcu4xq\">https://aws.amazon.com/marketplace/pp/prodview-xbvra5ylcu4xq</a> to learn more. <font color='orange'>If you do not have access to the link, please contact account admin for the help.</font>\n",
    "\n",
    "You will find details about the model including pricing, supported region, and end user license agreement. To use the model, please click “<font color='orange'>Continue to Subscribe</font>” from the detail page, come back here and learn how to deploy and inference.\n",
    "\n",
    "-------------------\n",
    "\n",
    "\n",
    "ESM3 is a frontier generative model for biology, able to jointly reason across three fundamental biological properties of proteins: sequence, structure, and function. These three data modalities are represented as tracks of discrete tokens at the input and output of ESM3. You can present the model with a combination of partial inputs across the tracks, and ESM3 will provide output predictions for all the tracks.\n",
    "ESM3 is a generative masked language model. You can prompt it with partial sequence, structure, and function keywords, and iteratively sample masked positions until all positions are unmasked.\n",
    "\n",
    "<img src=\"https://aws-hcls-ml.s3.amazonaws.com/public_assets_support_materials/esm3/jumpstart/img/esm3-architecture.png\" alt=\"ESM3 Architecture\" style=\"width:80%;\"/>\n",
    "\n",
    "\n",
    "The ESM3 architecture is highly scalable due to its transformer backbone and all-to-all reasoning over discrete token sequences. At its largest scale, ESM3 was trained with 1.07e24 FLOPs on 2.78 billion proteins and 771 billion unique tokens, and has 98 billion parameters.\n",
    "Here we present esm3-open-small. With 1.4B parameters it is the smallest and fastest model in the family, trained specifically to be open sourced. ESM3-open is available under a non-commercial license.\n",
    "\n",
    "This sample notebook shows you how to deploy [EvolutionaryScale - ESM3](https://aws.amazon.com/marketplace/pp/prodview-xbvra5ylcu4xq) using Amazon SageMaker.\n",
    "\n",
    "> **Note**: This is a reference notebook and it cannot run unless you make changes suggested in the notebook.\n",
    "\n",
    "> ESM3 model package support SageMaker Realtime Inference but not SageMaker Batch Transform.\n",
    "\n",
    "## Pre-requisites:\n",
    "1. **Note**: This notebook contains elements which render correctly in Jupyter interface. Open this notebook from an Amazon SageMaker Notebook Instance or Amazon SageMaker Studio.\n",
    "1. Ensure that IAM role used has **AmazonSageMakerFullAccess**\n",
    "1. To deploy this ML model successfully, ensure that:\n",
    "    1. Either your IAM role has these three permissions and you have authority to make AWS Marketplace subscriptions in the AWS account used: \n",
    "        1. **aws-marketplace:ViewSubscriptions**\n",
    "        1. **aws-marketplace:Unsubscribe**\n",
    "        1. **aws-marketplace:Subscribe**  \n",
    "    2. or your AWS account has a subscription to [ESM3](https://aws.amazon.com/marketplace/pp/prodview-xbvra5ylcu4xq). If so, skip step: [Subscribe to the model package](#1.-Subscribe-to-the-model-package)\n",
    "\n",
    "## Contents:\n",
    "1. [Subscribe to the model package](#1.-Subscribe-to-the-model-package)\n",
    "2. [Create an endpoint and perform real-time inference](#A.-Create-a-model-from-the-subscribed-model-package)\n",
    "   1. [Create a model from the subscribed model package](#A.-Create-an-endpoint-configuration)\n",
    "   2. [Create an endpoint configuration](#B.-Create-an-endpoint-configuration)\n",
    "   3. [Create a realtime inference endpoint](#C.-Create-an-endpoint-configuration)\n",
    "   4. [Create input payload](#D.-Create-an-input-payload)\n",
    "   5. [Perform real-time inference](#E.-Perform-real-time-inference)   \n",
    "   5. [Delete the endpoint](#H.-Delete-the-endpoint)\n",
    "4. [Clean-up](#4.-Clean-up)\n",
    "    1. [Delete the model](#A.-Delete-the-model)\n",
    "    2. [Unsubscribe to the listing (optional)](#B.-Unsubscribe-to-the-listing-(optional))\n",
    "    \n",
    "\n",
    "## Usage instructions\n",
    "You can run this notebook one cell at a time (By using Shift+Enter for running a cell)."
   ]
  },
  {
   "cell_type": "markdown",
   "metadata": {},
   "source": [
    "## 1. Subscribe to the model package"
   ]
  },
  {
   "cell_type": "markdown",
   "metadata": {},
   "source": [
    "To subscribe to the model package:\n",
    "1. Open the model package listing page [EvolutionaryScale ESM3 Model](https://aws.amazon.com/marketplace/pp/prodview-xbvra5ylcu4xq)\n",
    "1. On the AWS Marketplace listing, click on the **Continue to subscribe** button.\n",
    "1. On the **Subscribe to this software** page, review and click on **\"Accept Offer\"** if you and your organization agrees with EULA, pricing, and support terms. \n",
    "1. Once you click on **Continue to configuration button** and then choose a **region**, you will see a **Product Arn** displayed. This is the model package ARN that you need to specify while creating a deployable model using Boto3. Copy the ARN corresponding to your region and specify the same in the following cell."
   ]
  },
  {
   "cell_type": "code",
   "execution_count": 5,
   "metadata": {
    "tags": []
   },
   "outputs": [
    {
     "name": "stdout",
     "output_type": "stream",
     "text": [
      "Requirement already satisfied: boto3 in /Users/pronoc/.pyenv/versions/3.10.12/envs/bedrock/lib/python3.10/site-packages (1.34.131)\n",
      "Requirement already satisfied: sagemaker in /Users/pronoc/.pyenv/versions/3.10.12/envs/bedrock/lib/python3.10/site-packages (2.224.1)\n",
      "Requirement already satisfied: botocore<1.35.0,>=1.34.131 in /Users/pronoc/.pyenv/versions/3.10.12/envs/bedrock/lib/python3.10/site-packages (from boto3) (1.34.131)\n",
      "Requirement already satisfied: jmespath<2.0.0,>=0.7.1 in /Users/pronoc/.pyenv/versions/3.10.12/envs/bedrock/lib/python3.10/site-packages (from boto3) (1.0.1)\n",
      "Requirement already satisfied: s3transfer<0.11.0,>=0.10.0 in /Users/pronoc/.pyenv/versions/3.10.12/envs/bedrock/lib/python3.10/site-packages (from boto3) (0.10.1)\n",
      "Requirement already satisfied: attrs<24,>=23.1.0 in /Users/pronoc/.pyenv/versions/3.10.12/envs/bedrock/lib/python3.10/site-packages (from sagemaker) (23.1.0)\n",
      "Requirement already satisfied: cloudpickle==2.2.1 in /Users/pronoc/.pyenv/versions/3.10.12/envs/bedrock/lib/python3.10/site-packages (from sagemaker) (2.2.1)\n",
      "Requirement already satisfied: google-pasta in /Users/pronoc/.pyenv/versions/3.10.12/envs/bedrock/lib/python3.10/site-packages (from sagemaker) (0.2.0)\n",
      "Requirement already satisfied: numpy<2.0,>=1.9.0 in /Users/pronoc/.pyenv/versions/3.10.12/envs/bedrock/lib/python3.10/site-packages (from sagemaker) (1.26.0)\n",
      "Requirement already satisfied: protobuf<5.0,>=3.12 in /Users/pronoc/.pyenv/versions/3.10.12/envs/bedrock/lib/python3.10/site-packages (from sagemaker) (4.24.4)\n",
      "Requirement already satisfied: smdebug-rulesconfig==1.0.1 in /Users/pronoc/.pyenv/versions/3.10.12/envs/bedrock/lib/python3.10/site-packages (from sagemaker) (1.0.1)\n",
      "Requirement already satisfied: importlib-metadata<7.0,>=1.4.0 in /Users/pronoc/.pyenv/versions/3.10.12/envs/bedrock/lib/python3.10/site-packages (from sagemaker) (6.8.0)\n",
      "Requirement already satisfied: packaging>=20.0 in /Users/pronoc/.pyenv/versions/3.10.12/envs/bedrock/lib/python3.10/site-packages (from sagemaker) (23.2)\n",
      "Requirement already satisfied: pandas in /Users/pronoc/.pyenv/versions/3.10.12/envs/bedrock/lib/python3.10/site-packages (from sagemaker) (2.1.1)\n",
      "Requirement already satisfied: pathos in /Users/pronoc/.pyenv/versions/3.10.12/envs/bedrock/lib/python3.10/site-packages (from sagemaker) (0.3.1)\n",
      "Requirement already satisfied: schema in /Users/pronoc/.pyenv/versions/3.10.12/envs/bedrock/lib/python3.10/site-packages (from sagemaker) (0.7.5)\n",
      "Requirement already satisfied: PyYAML~=6.0 in /Users/pronoc/.pyenv/versions/3.10.12/envs/bedrock/lib/python3.10/site-packages (from sagemaker) (6.0.1)\n",
      "Requirement already satisfied: jsonschema in /Users/pronoc/.pyenv/versions/3.10.12/envs/bedrock/lib/python3.10/site-packages (from sagemaker) (4.19.1)\n",
      "Requirement already satisfied: platformdirs in /Users/pronoc/.pyenv/versions/3.10.12/envs/bedrock/lib/python3.10/site-packages (from sagemaker) (3.11.0)\n",
      "Requirement already satisfied: tblib<4,>=1.7.0 in /Users/pronoc/.pyenv/versions/3.10.12/envs/bedrock/lib/python3.10/site-packages (from sagemaker) (1.7.0)\n",
      "Requirement already satisfied: urllib3<3.0.0,>=1.26.8 in /Users/pronoc/.pyenv/versions/3.10.12/envs/bedrock/lib/python3.10/site-packages (from sagemaker) (1.26.16)\n",
      "Requirement already satisfied: requests in /Users/pronoc/.pyenv/versions/3.10.12/envs/bedrock/lib/python3.10/site-packages (from sagemaker) (2.31.0)\n",
      "Requirement already satisfied: docker in /Users/pronoc/.pyenv/versions/3.10.12/envs/bedrock/lib/python3.10/site-packages (from sagemaker) (7.1.0)\n",
      "Requirement already satisfied: tqdm in /Users/pronoc/.pyenv/versions/3.10.12/envs/bedrock/lib/python3.10/site-packages (from sagemaker) (4.66.4)\n",
      "Requirement already satisfied: psutil in /Users/pronoc/.pyenv/versions/3.10.12/envs/bedrock/lib/python3.10/site-packages (from sagemaker) (5.9.5)\n",
      "Requirement already satisfied: python-dateutil<3.0.0,>=2.1 in /Users/pronoc/.pyenv/versions/3.10.12/envs/bedrock/lib/python3.10/site-packages (from botocore<1.35.0,>=1.34.131->boto3) (2.8.2)\n",
      "Requirement already satisfied: zipp>=0.5 in /Users/pronoc/.pyenv/versions/3.10.12/envs/bedrock/lib/python3.10/site-packages (from importlib-metadata<7.0,>=1.4.0->sagemaker) (3.17.0)\n",
      "Requirement already satisfied: charset-normalizer<4,>=2 in /Users/pronoc/.pyenv/versions/3.10.12/envs/bedrock/lib/python3.10/site-packages (from requests->sagemaker) (3.3.0)\n",
      "Requirement already satisfied: idna<4,>=2.5 in /Users/pronoc/.pyenv/versions/3.10.12/envs/bedrock/lib/python3.10/site-packages (from requests->sagemaker) (3.4)\n",
      "Requirement already satisfied: certifi>=2017.4.17 in /Users/pronoc/.pyenv/versions/3.10.12/envs/bedrock/lib/python3.10/site-packages (from requests->sagemaker) (2023.7.22)\n",
      "Requirement already satisfied: six in /Users/pronoc/.pyenv/versions/3.10.12/envs/bedrock/lib/python3.10/site-packages (from google-pasta->sagemaker) (1.16.0)\n",
      "Requirement already satisfied: jsonschema-specifications>=2023.03.6 in /Users/pronoc/.pyenv/versions/3.10.12/envs/bedrock/lib/python3.10/site-packages (from jsonschema->sagemaker) (2023.7.1)\n",
      "Requirement already satisfied: referencing>=0.28.4 in /Users/pronoc/.pyenv/versions/3.10.12/envs/bedrock/lib/python3.10/site-packages (from jsonschema->sagemaker) (0.30.2)\n",
      "Requirement already satisfied: rpds-py>=0.7.1 in /Users/pronoc/.pyenv/versions/3.10.12/envs/bedrock/lib/python3.10/site-packages (from jsonschema->sagemaker) (0.10.3)\n",
      "Requirement already satisfied: pytz>=2020.1 in /Users/pronoc/.pyenv/versions/3.10.12/envs/bedrock/lib/python3.10/site-packages (from pandas->sagemaker) (2023.3.post1)\n",
      "Requirement already satisfied: tzdata>=2022.1 in /Users/pronoc/.pyenv/versions/3.10.12/envs/bedrock/lib/python3.10/site-packages (from pandas->sagemaker) (2023.3)\n",
      "Requirement already satisfied: ppft>=1.7.6.7 in /Users/pronoc/.pyenv/versions/3.10.12/envs/bedrock/lib/python3.10/site-packages (from pathos->sagemaker) (1.7.6.7)\n",
      "Requirement already satisfied: dill>=0.3.7 in /Users/pronoc/.pyenv/versions/3.10.12/envs/bedrock/lib/python3.10/site-packages (from pathos->sagemaker) (0.3.7)\n",
      "Requirement already satisfied: pox>=0.3.3 in /Users/pronoc/.pyenv/versions/3.10.12/envs/bedrock/lib/python3.10/site-packages (from pathos->sagemaker) (0.3.3)\n",
      "Requirement already satisfied: multiprocess>=0.70.15 in /Users/pronoc/.pyenv/versions/3.10.12/envs/bedrock/lib/python3.10/site-packages (from pathos->sagemaker) (0.70.15)\n",
      "Requirement already satisfied: contextlib2>=0.5.5 in /Users/pronoc/.pyenv/versions/3.10.12/envs/bedrock/lib/python3.10/site-packages (from schema->sagemaker) (21.6.0)\n",
      "\n",
      "\u001b[1m[\u001b[0m\u001b[34;49mnotice\u001b[0m\u001b[1;39;49m]\u001b[0m\u001b[39;49m A new release of pip is available: \u001b[0m\u001b[31;49m23.2.1\u001b[0m\u001b[39;49m -> \u001b[0m\u001b[32;49m24.1\u001b[0m\n",
      "\u001b[1m[\u001b[0m\u001b[34;49mnotice\u001b[0m\u001b[1;39;49m]\u001b[0m\u001b[39;49m To update, run: \u001b[0m\u001b[32;49mpython -m pip install --upgrade pip\u001b[0m\n"
     ]
    }
   ],
   "source": [
    "!pip install --upgrade boto3 sagemaker\n",
    "# if you upgrade the package, you need to restart the kernel"
   ]
  },
  {
   "cell_type": "code",
   "execution_count": 6,
   "metadata": {
    "tags": []
   },
   "outputs": [
    {
     "name": "stdout",
     "output_type": "stream",
     "text": [
      "Default SageMaker execution role: arn:aws:iam::471112526672:role/StandardAuthorization\n"
     ]
    }
   ],
   "source": [
    "import boto3\n",
    "import sagemaker\n",
    "sagemaker_session = sagemaker.Session()\n",
    "region = sagemaker_session.boto_region_name\n",
    "\n",
    "# Create a SageMaker client\n",
    "sagemaker_client = boto3.client('sagemaker', region_name=region)\n",
    "\n",
    "try:\n",
    "    # Attempt to get the execution role\n",
    "    role = sagemaker.get_execution_role()\n",
    "    print(f\"Default SageMaker execution role: {role}\")\n",
    "except ValueError as e:\n",
    "    print(f\"Error getting default execution role: {e}\")\n",
    "    print(\"You may need to specify a role explicitly or create one if not running in a SageMaker environment.\")\n",
    "\n",
    "esm3_package = \"esm3-sm-open-v1-dev-9cba7454472e39b68b394d9c7c70e393\"\n",
    "\n",
    "# Mapping for Model Packages\n",
    "model_package_map = {\n",
    "    \"us-east-1\": f\"arn:aws:sagemaker:us-east-1:865070037744:model-package/{esm3_package}\",\n",
    "    \"us-east-2\": f\"arn:aws:sagemaker:us-east-2:057799348421:model-package/{esm3_package}\",\n",
    "    \"us-west-1\": f\"arn:aws:sagemaker:us-west-1:382657785993:model-package/{esm3_package}\",\n",
    "    \"us-west-2\": f\"arn:aws:sagemaker:us-west-2:594846645681:model-package/{esm3_package}\",\n",
    "    \"ca-central-1\": f\"arn:aws:sagemaker:ca-central-1:470592106596:model-package/{esm3_package}\",\n",
    "    \"eu-central-1\": f\"arn:aws:sagemaker:eu-central-1:446921602837:model-package/{esm3_package}\",\n",
    "    \"eu-west-1\": f\"arn:aws:sagemaker:eu-west-1:985815980388:model-package/{esm3_package}\",\n",
    "    \"eu-west-2\": f\"arn:aws:sagemaker:eu-west-2:856760150666:model-package/{esm3_package}\",\n",
    "    \"eu-west-3\": f\"arn:aws:sagemaker:eu-west-3:843114510376:model-package/{esm3_package}\",\n",
    "    \"eu-north-1\": f\"arn:aws:sagemaker:eu-north-1:136758871317:model-package/{esm3_package}\",\n",
    "    \"ap-southeast-1\": f\"arn:aws:sagemaker:ap-southeast-1:192199979996:model-package/{esm3_package}\",\n",
    "    \"ap-southeast-2\": f\"arn:aws:sagemaker:ap-southeast-2:666831318237:model-package/{esm3_package}\",\n",
    "    \"ap-northeast-2\": f\"arn:aws:sagemaker:ap-northeast-2:745090734665:model-package/{esm3_package}\",\n",
    "    \"ap-northeast-1\": f\"arn:aws:sagemaker:ap-northeast-1:977537786026:model-package/{esm3_package}\",\n",
    "    \"ap-south-1\": f\"arn:aws:sagemaker:ap-south-1:077584701553:model-package/{esm3_package}\",\n",
    "    \"sa-east-1\": f\"arn:aws:sagemaker:sa-east-1:270155090741:model-package/{esm3_package}\",\n",
    "}\n",
    "\n",
    "if region not in model_package_map.keys():\n",
    "    raise Exception(f\"Current boto3 session region {region} is not supported.\")\n",
    "\n",
    "model_package_arn = model_package_map[region]"
   ]
  },
  {
   "cell_type": "markdown",
   "metadata": {},
   "source": [
    "## 2. Create an endpoint and perform real-time inference"
   ]
  },
  {
   "cell_type": "markdown",
   "metadata": {},
   "source": [
    "If you want to understand how real-time inference with Amazon SageMaker works, see [Documentation](https://docs.aws.amazon.com/sagemaker/latest/dg/how-it-works-hosting.html)."
   ]
  },
  {
   "cell_type": "markdown",
   "metadata": {},
   "source": [
    "### A. Create a model from the subscribed model package\n",
    "\n",
    "You can create a model from your SageMaker marketplace subscriptions. \n",
    "\n",
    "<img src=\"https://aws-hcls-ml.s3.amazonaws.com/public_assets_support_materials/esm3/jumpstart/img/model-from-marketplace.png\" alt=\"Subscribed model - ESM3\" style=\"width:80%;\"/>\n",
    "\n",
    "ESM3 model package is available to be used to create a model that can be hosted behind a realtime inference endpoint\n"
   ]
  },
  {
   "cell_type": "code",
   "execution_count": 2,
   "metadata": {
    "tags": []
   },
   "outputs": [
    {
     "name": "stdout",
     "output_type": "stream",
     "text": [
      "Model package ARN: arn:aws:sagemaker:us-east-2:057799348421:model-package/esm3-sm-open-v1-dev-9cba7454472e39b68b394d9c7c70e393\n"
     ]
    }
   ],
   "source": [
    "# Alternatively you can also create a model package programmatically by copying the model package ARN from the subscriptions screen\n",
    "from sagemaker.model import ModelPackage\n",
    "print(f\"Model package ARN: {model_package_arn}\")\n",
    "endpoint_name = sagemaker.utils.name_from_base(\"ESM3-open\")\n",
    "\n",
    "model = ModelPackage(\n",
    "    role=role, \n",
    "    model_package_arn=model_package_arn, \n",
    "    sagemaker_session=sagemaker_session\n",
    ")"
   ]
  },
  {
   "cell_type": "markdown",
   "metadata": {},
   "source": [
    "### B. Create an endpoint configuration\n",
    "\n",
    "ESM3 allows inference only on `ml.g5.2xlarge` or `ml.g5.4xlarge` instance types. Let's create an endpoint configuration which supports one of these instance types"
   ]
  },
  {
   "cell_type": "markdown",
   "metadata": {},
   "source": [
    "Once endpoint has been created, you would be able to perform real-time inference."
   ]
  },
  {
   "cell_type": "markdown",
   "metadata": {},
   "source": [
    "### C. Create a real time endpoint"
   ]
  },
  {
   "cell_type": "code",
   "execution_count": null,
   "metadata": {
    "tags": []
   },
   "outputs": [
    {
     "name": "stdout",
     "output_type": "stream",
     "text": [
      "----------------------------------------------------------------"
     ]
    }
   ],
   "source": [
    "# Deploy the model to create an endpoint\n",
    "instance_type = \"ml.g5.2xlarge\"\n",
    "predictor = model.deploy(\n",
    "    initial_instance_count=1,\n",
    "    instance_type=instance_type,\n",
    "    endpoint_name=endpoint_name\n",
    ")"
   ]
  },
  {
   "cell_type": "markdown",
   "metadata": {},
   "source": [
    "### D. Create an input payload"
   ]
  },
  {
   "cell_type": "code",
   "execution_count": null,
   "metadata": {
    "tags": []
   },
   "outputs": [],
   "source": [
    "input_sequence = \"QYAPQTQSGRTSIVHLFEWRWVDIALECERYLGPKGFGGVQVSPPNENVVVTNPSRPWWERYQPVSYKLCTRSGNENEFRDMVTRCNNVGVRIYVDAVINHMCGSGAAAGTGTTCGSYCNPGSREFPAVPYSAWDFNDGKCKTASGGIESYNDPYQVRDCQLVGLLDLALEKDYVRSMIADYLNKLIDIGVAGFRIDASKHMWPGDIKAVLDKLHNLNTNWFPAGSRPFIFQEVIDLGGEAIKSSEYFGNGRVTEFKYGAKLGTVVRKWSGEKMSYLKNWGEGWGFMPSDRALVFVDNHDNQRGHGAGGSSILTFWDARLYKVAVGFMLAHPYGFTRVMSSYRWARNFVNGEDVNDWIGPPNNNGVIKEVTINADTTCGNDWVCEHRWREIRNMVWFRNVVDGEPFANWWDNGSNQVAFGRGNRGFIVFNNDDWQLSSTLQTGLPGGTYCDVISGDKVGNSCTGIKVYVSSDGTAQFSISNSAEDPFIAIHAESKL\""
   ]
  },
  {
   "cell_type": "code",
   "execution_count": null,
   "metadata": {
    "tags": []
   },
   "outputs": [],
   "source": [
    "import json\n",
    "payload = json.dumps({\"model\": \"esm3-sm-open-v1\", \"sequence\": input_sequence, \"sequence_logprobs\": True})"
   ]
  },
  {
   "cell_type": "code",
   "execution_count": null,
   "metadata": {
    "tags": []
   },
   "outputs": [],
   "source": [
    "print(payload)"
   ]
  },
  {
   "cell_type": "markdown",
   "metadata": {},
   "source": [
    "### E. Perform real-time inference"
   ]
  },
  {
   "cell_type": "code",
   "execution_count": null,
   "metadata": {
    "tags": []
   },
   "outputs": [],
   "source": [
    "# Invoke the endpoint\n",
    "\n",
    "predictor.predict(\n",
    "    ContentType='application/json',\n",
    "    Body=payload\n",
    ")\n",
    "\n",
    "# Read and parse the response\n",
    "result = json.loads(response['Body'].read().decode())"
   ]
  },
  {
   "cell_type": "code",
   "execution_count": null,
   "metadata": {
    "scrolled": true,
    "tags": []
   },
   "outputs": [],
   "source": [
    "from pprint import pprint\n",
    "\n",
    "pprint(result)"
   ]
  },
  {
   "cell_type": "markdown",
   "metadata": {},
   "source": [
    "## 4. Clean-up"
   ]
  },
  {
   "cell_type": "markdown",
   "metadata": {},
   "source": [
    "### A. Delete the endpoint"
   ]
  },
  {
   "cell_type": "markdown",
   "metadata": {},
   "source": [
    "Now that you have successfully performed a real-time inference, you do not need the endpoint any more. You can terminate the endpoint to avoid being charged."
   ]
  },
  {
   "cell_type": "code",
   "execution_count": null,
   "metadata": {},
   "outputs": [],
   "source": [
    "# Delete the endpoint\n",
    "try:\n",
    "    response = sagemaker_client.delete_endpoint(EndpointName=endpoint_name)\n",
    "    print(f\"Endpoint '{endpoint_name}' deletion initiated.\")\n",
    "except sagemaker_client.exceptions.ClientError as e:\n",
    "    print(f\"Error deleting endpoint: {e}\")"
   ]
  },
  {
   "cell_type": "markdown",
   "metadata": {},
   "source": [
    "### B. Unsubscribe to the listing (optional)"
   ]
  },
  {
   "cell_type": "markdown",
   "metadata": {},
   "source": [
    "If you would like to unsubscribe to the model package, follow these steps. Before you cancel the subscription, ensure that you do not have any [deployable model](https://console.aws.amazon.com/sagemaker/home#/models) created from the model package or using the algorithm. Note - You can find this information by looking at the container name associated with the model. \n",
    "\n",
    "**Steps to unsubscribe to product from AWS Marketplace**:\n",
    "1. Navigate to __Machine Learning__ tab on [__Your Software subscriptions page__](https://aws.amazon.com/marketplace/ai/library?productType=ml&ref_=mlmp_gitdemo_indust)\n",
    "2. Locate the listing that you want to cancel the subscription for, and then choose __Cancel Subscription__  to cancel the subscription.\n",
    "\n"
   ]
  }
 ],
 "metadata": {
  "instance_type": "ml.t3.medium",
  "kernelspec": {
   "display_name": "Python 3 (ipykernel)",
   "language": "python",
   "name": "python3"
  },
  "language_info": {
   "codemirror_mode": {
    "name": "ipython",
    "version": 3
   },
   "file_extension": ".py",
   "mimetype": "text/x-python",
   "name": "python",
   "nbconvert_exporter": "python",
   "pygments_lexer": "ipython3",
   "version": "3.10.12"
  },
  "vscode": {
   "interpreter": {
    "hash": "b0fa6594d8f4cbf19f97940f81e996739fb7646882a419484c72d19e05852a7e"
   }
  }
 },
 "nbformat": 4,
 "nbformat_minor": 4
}
